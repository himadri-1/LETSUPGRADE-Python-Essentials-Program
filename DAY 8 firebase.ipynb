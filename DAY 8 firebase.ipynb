{
  "nbformat": 4,
  "nbformat_minor": 0,
  "metadata": {
    "colab": {
      "name": "firebase.ipynb",
      "provenance": [],
      "collapsed_sections": []
    },
    "kernelspec": {
      "name": "python3",
      "display_name": "Python 3"
    }
  },
  "cells": [
    {
      "cell_type": "code",
      "metadata": {
        "id": "63GeDHerzbw4"
      },
      "source": [
        "!pip install firebase"
      ],
      "execution_count": null,
      "outputs": []
    },
    {
      "cell_type": "code",
      "metadata": {
        "id": "l83lGqzOzn3c"
      },
      "source": [
        "import firebase_admin"
      ],
      "execution_count": 2,
      "outputs": []
    },
    {
      "cell_type": "code",
      "metadata": {
        "id": "POHOILvS05gk"
      },
      "source": [
        "from firebase_admin import credentials\r\n",
        "from firebase_admin import firestore"
      ],
      "execution_count": 4,
      "outputs": []
    },
    {
      "cell_type": "code",
      "metadata": {
        "id": "EF7rldmF1HDr"
      },
      "source": [
        "cred=credentials.Certificate(\"fir-python\")\r\n",
        "firebase_admin.initialize_app(cred)"
      ],
      "execution_count": null,
      "outputs": []
    },
    {
      "cell_type": "code",
      "metadata": {
        "id": "_vwNDGH7_wNs"
      },
      "source": [
        "db.firestore.client()"
      ],
      "execution_count": null,
      "outputs": []
    },
    {
      "cell_type": "code",
      "metadata": {
        "id": "-IWFSP8DAIBI"
      },
      "source": [
        "def enterdata():\r\n",
        "  doc=db.collection(u'users').document()\r\n",
        "  name=input(\"Enter first name\")\r\n",
        "  lastname=input(\"Enter last name\")\r\n",
        "  age=int(input(\"Enter age\"))\r\n",
        "  d={}\r\n",
        "  d['firstname']=name\r\n",
        "  d['lastname']=lastname\r\n",
        "  d['age']=age\r\n",
        "  doc.set(d)"
      ],
      "execution_count": null,
      "outputs": []
    },
    {
      "cell_type": "code",
      "metadata": {
        "id": "zfc_f_WDAvBM"
      },
      "source": [
        " doc=db.collection(u'users').document()\r\n",
        " for c in doc:\r\n",
        "   print(\"Id:\",c.id)\r\n",
        "   print(\"Firstname:\",c.to_dict().get(\"firstname\"))\r\n",
        "   print(\"Lastname:\",c.to_dict.get(\"lastname\"))\r\n",
        "   print(\"Age\":,c.to_dict().get(\"age\"))\r\n",
        "   print(\"*****\")"
      ],
      "execution_count": null,
      "outputs": []
    },
    {
      "cell_type": "code",
      "metadata": {
        "id": "WZMtfKv-Byh8"
      },
      "source": [
        "def updatedata(uid,updatedage):\r\n",
        "   doc=db.collection(u'users').document(uid)\r\n",
        "   d.update({\"age\":updatedage})"
      ],
      "execution_count": null,
      "outputs": []
    },
    {
      "cell_type": "code",
      "metadata": {
        "id": "4Bk_1eqiCHcM"
      },
      "source": [
        "def deletedata(uid):\r\n",
        "  db.collection(u'users').document(uid).delete()"
      ],
      "execution_count": null,
      "outputs": []
    }
  ]
}
